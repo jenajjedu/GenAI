{
  "nbformat": 4,
  "nbformat_minor": 0,
  "metadata": {
    "colab": {
      "provenance": []
    },
    "kernelspec": {
      "name": "python3",
      "display_name": "Python 3"
    },
    "language_info": {
      "name": "python"
    }
  },
  "cells": [
    {
      "cell_type": "code",
      "source": [
        "import pandas as pd\n",
        "from PIL import Image\n",
        "import requests\n",
        "from io import BytesIO\n",
        "import numpy as np\n",
        "from IPython.display import display\n",
        "\n",
        "# Utility Functions\n",
        "\n",
        "# Make the directory to hold the combined images\n",
        "path_to_new_images = '/content/new_images/'\n",
        "!mkdir -p {path_to_new_images}\n",
        "\n",
        "\n",
        "def make_df(csv_name) -> pd.DataFrame:\n",
        "    df = pd.read_csv(csv_name)\n",
        "    df.columns = [\"url1\", \"url2\", \"match-score\"]\n",
        "    return df\n",
        "\n",
        "\n",
        "\n",
        "def get_images(img1_url, img_url2):\n",
        "    try:\n",
        "      response1 = requests.get(img1_url)\n",
        "      try:\n",
        "          response2 = requests.get(img_url2)\n",
        "          img1 = Image.open(BytesIO(response1.content))\n",
        "          img2 = Image.open(BytesIO(response2.content))\n",
        "      except:\n",
        "          print(f\"error: could NOT display image on URL {row.url2}\")\n",
        "          return False, img1, None\n",
        "    except:\n",
        "        print(f\"error: could not display image on URL {row.url1}\")\n",
        "        return False, None, None\n",
        "\n",
        "    return True, img1, img2\n",
        "\n",
        "\n",
        "\n",
        "def make_combo(img1, img2, idx, img_path):\n",
        "    #Transform images to the same height, if necessary\n",
        "    if img1.size[1] != img2.size[1]:\n",
        "        img1 = img1.resize((img1.size[0], img2.size[1]))\n",
        "\n",
        "    # Create a new image combining both\n",
        "    new_img = Image.new('RGB', (img1.size[0] + img2.size[0], img1.size[1]))\n",
        "    new_img.paste(img1, (0, 0))\n",
        "    new_img.paste(img2, (img1.size[0], 0))\n",
        "\n",
        "    # Save new image\n",
        "    new_img.save(f\"{img_path}/test_sample{str(idx).zfill(4)}.jpg\")\n",
        "\n",
        "    return new_img"
      ],
      "metadata": {
        "id": "qGqj3Dn-qCzD"
      },
      "execution_count": 87,
      "outputs": []
    },
    {
      "cell_type": "code",
      "source": [
        "debug = False\n",
        "test_size = 2\n",
        "\n",
        "\n",
        "# import data into a dataframe\n",
        "url_label_df = make_df('/content/pairwise_training_data.csv')\n",
        "if debug: print(url_label_df.head()); example_size = test_size # number of images to create\n",
        "else: example_size = len(url_label_df) # number of images to create\n",
        "\n",
        "\n",
        "# Look at the URLs for small sample review\n",
        "for i,(idx,row) in enumerate(url_label_df.iterrows()):\n",
        "  if i < example_size:\n",
        "      # print(f\"{i}: {row.url1} vs {row.url2}\")\n",
        "      both, img1, img2 = get_images(row.url1, row.url2 )\n",
        "      if not both: continue\n",
        "      new_image = make_combo(img1, img2, idx, path_to_new_images)\n",
        "      if debug: display(new_image)\n"
      ],
      "metadata": {
        "id": "YnDaXMujv--c"
      },
      "execution_count": null,
      "outputs": []
    },
    {
      "cell_type": "code",
      "source": [],
      "metadata": {
        "id": "T3j9hUKwklaC"
      },
      "execution_count": null,
      "outputs": []
    }
  ]
}